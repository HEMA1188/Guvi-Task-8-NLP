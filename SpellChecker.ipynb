{
  "nbformat": 4,
  "nbformat_minor": 0,
  "metadata": {
    "colab": {
      "provenance": [],
      "authorship_tag": "ABX9TyPG475xEDYql9OxhUnbZEqx",
      "include_colab_link": true
    },
    "kernelspec": {
      "name": "python3",
      "display_name": "Python 3"
    },
    "language_info": {
      "name": "python"
    }
  },
  "cells": [
    {
      "cell_type": "markdown",
      "metadata": {
        "id": "view-in-github",
        "colab_type": "text"
      },
      "source": [
        "<a href=\"https://colab.research.google.com/github/HEMA1188/Guvi-Task-8-NLP/blob/main/SpellChecker.ipynb\" target=\"_parent\"><img src=\"https://colab.research.google.com/assets/colab-badge.svg\" alt=\"Open In Colab\"/></a>"
      ]
    },
    {
      "cell_type": "code",
      "source": [
        "pip install pyspellchecker"
      ],
      "metadata": {
        "id": "W3cjuz-Lk3mr",
        "outputId": "9205e685-058e-4c2a-afae-ab2177a2e03a",
        "colab": {
          "base_uri": "https://localhost:8080/"
        }
      },
      "execution_count": 1,
      "outputs": [
        {
          "output_type": "stream",
          "name": "stdout",
          "text": [
            "Looking in indexes: https://pypi.org/simple, https://us-python.pkg.dev/colab-wheels/public/simple/\n",
            "Collecting pyspellchecker\n",
            "  Downloading pyspellchecker-0.7.1-py3-none-any.whl (2.5 MB)\n",
            "\u001b[K     |████████████████████████████████| 2.5 MB 18.9 MB/s \n",
            "\u001b[?25hInstalling collected packages: pyspellchecker\n",
            "Successfully installed pyspellchecker-0.7.1\n"
          ]
        }
      ]
    },
    {
      "cell_type": "code",
      "execution_count": 5,
      "metadata": {
        "colab": {
          "base_uri": "https://localhost:8080/"
        },
        "id": "oOAS1kbVkm31",
        "outputId": "556321fa-71d9-4595-e065-34e5a4afa23d"
      },
      "outputs": [
        {
          "output_type": "stream",
          "name": "stdout",
          "text": [
            "Original Text:\n",
            " The paragraph below contain spelling errors, referensing mistakes slang, poor sentence structure: it is written in the first person,etc,\n",
            "Edit the paragraph to an acedamicelly suitable piece and email it to your tutor.\n",
            "\n",
            "Ellis Green says that water pollution is a major problem in the world we live in today(green, 2020,9). \n",
            "The says that we need to limit the about of trash that we threw into the ocean and rivers because it is damaging the environment and the plastic in te water is harming the sea animals(Green 9,2020).\n",
            "To make the number of pollution less.we should throw out rubbish in the bin and on the ground, clean up the reaches and use plastic stuff cox it ends up choking the sea turtle.\n",
            "Together me and you save plenty of lives. \n",
            "Corrected text:\n",
            " The paragraph below contain spelling errors, referensing mistakes slang, poor sentence structure: it is written in the first person,etc,\n",
            "Edit the paragraph to an acedamicelly suitable piece and email it to your tutor.\n",
            "\n",
            "Ellis Green says that water pollution is a major problem in the world we live in today(green, 2020,9). \n",
            "The says that we need to limit the about of trash that we threw into the ocean and rivers because it is damaging the environment and the plastic in te water is harming the sea animals(Green 9,2020).\n",
            "To make the number of pollution less.we should throw out rubbish in the bin and on the ground, clean up the reaches and use plastic stuff cox it ends up choking the sea turtle.\n",
            "Together me and you save plenty of lives. \n",
            "Text without punctuations:\n",
            " The paragraph below contain spelling errors referensing mistakes slang poor sentence structure it is written in the first personetc\n",
            "Edit the paragraph to an acedamicelly suitable piece and email it to your tutor\n",
            "\n",
            "Ellis Green says that water pollution is a major problem in the world we live in todaygreen 20209 \n",
            "The says that we need to limit the about of trash that we threw into the ocean and rivers because it is damaging the environment and the plastic in te water is harming the sea animalsGreen 92020\n",
            "To make the number of pollution lesswe should throw out rubbish in the bin and on the ground clean up the reaches and use plastic stuff cox it ends up choking the sea turtle\n",
            "Together me and you save plenty of lives \n",
            "Possible list of misspelled words in the original text:\n",
            " {'todaygreen', 'acedamicelly', 'animalsgreen', 'personetc', 'referensing', 'lesswe'}\n",
            "Correct word: None\n",
            "Candidate words: None\n",
            "Correct word: None\n",
            "Candidate words: None\n",
            "Correct word: None\n",
            "Candidate words: None\n",
            "Correct word: None\n",
            "Candidate words: None\n",
            "Correct word: referencing\n",
            "Candidate words: {'referencing'}\n",
            "Correct word: less\n",
            "Candidate words: {'lessen', 'lesson', 'less', 'jesse', 'lassie', 'bessie', 'lease', 'leslie', 'jessie', 'lesser', \"less'n\", 'esse'}\n"
          ]
        }
      ],
      "source": [
        "from textblob import TextBlob\n",
        "from spellchecker import SpellChecker\n",
        "import re\n",
        "file1=\"File1.txt\"\n",
        "with open(file1,\"r+\") as filehandle:\n",
        "    filecontent=filehandle.read()\n",
        "    print(\"Original Text:\\n\", str(filecontent))\n",
        "    \n",
        "    b = TextBlob(filecontent)\n",
        "    print(\"Corrected text:\\n\", str(b.correct()))\n",
        "\n",
        "#remove all punctuations before finding possible misspelled words\n",
        "s = re.sub(r'[^\\w\\s]','',filecontent)\n",
        "print(\"Text without punctuations:\\n\",s)\n",
        "wordlist=s.split()\n",
        "spell = SpellChecker()\n",
        "# find those words that may be misspelled\n",
        "misspelled = spell.unknown(wordlist)\n",
        "\n",
        "print(\"Possible list of misspelled words in the original text:\\n\",misspelled)\n",
        "#textblob cannot correct all misspellings , some corrections might be meaningless, so its important to find all candidate words\n",
        "for word in misspelled:\n",
        "    # Get the one `most likely` answer\n",
        "    print(\"Correct word:\",spell.correction(word))\n",
        "\n",
        "    # Get a list of `likely` options\n",
        "    print(\"Candidate words:\",spell.candidates(word))\n",
        "\n",
        "#finally overwrite the text file with the corrected text\n",
        "with open(file1,\"w\") as filehandle:\n",
        "    filehandle.write(str(b.correct()))"
      ]
    }
  ]
}